{
 "cells": [
  {
   "cell_type": "code",
   "execution_count": 2,
   "metadata": {},
   "outputs": [],
   "source": [
    "import pandas as pd\n",
    "import re\n",
    "from sklearn.feature_extraction import text\n",
    "# from nltk.stem import WordNetLemmatizer\n",
    "from bs4 import BeautifulSoup\n",
    "from sklearn.metrics import confusion_matrix\n",
    "import matplotlib.pyplot as plt\n",
    "from itertools import accumulate\n",
    "from gensim.models import Word2Vec\n",
    "from keras.preprocessing.sequence import pad_sequences\n",
    "from sklearn.model_selection import train_test_split\n",
    "import itertools\n",
    "\n",
    "# 读取数据\n",
    "data = pd.read_csv(r\"./all_data.tsv\", sep='\\t',escapechar='\\\\')\n",
    "# data2 = pd.read_csv(r\"./imdb_train_test.tsv\", sep='\\t')\n",
    "\n",
    "def load_stopwords(filepath):\n",
    "    stopwords_final = []\n",
    "    #2 ollect words from files. Each word is on one line\n",
    "    file = open(filepath,\"r\",encoding=\"utf-8\") #\"stopwords-master/baidu.txt\"\n",
    "    for line in file:\n",
    "        line = line.strip()\n",
    "        stopwords_final.append(line)\n",
    "    file.close()\n",
    "    return stopwords_final\n",
    "\n",
    "def clean_review(raw_review):\n",
    "    # 1. 评论是爬虫抓取的，存在一些 html 标签，需要去掉\n",
    "    review_text = BeautifulSoup(raw_review, 'html.parser').get_text()\n",
    "    # 2. 标点符号只保留 “-” 和 上单引号\n",
    "    review_text = rex.sub(' ', review_text)\n",
    "    # 3. 全部变成小写\n",
    "    review_text = review_text.lower()\n",
    "    # 4. 分词\n",
    "    word_list = review_text.split()\n",
    "    # 5. 词性还原\n",
    "#     tokens = list(map(lemmatizer.lemmatize, word_list))\n",
    "#     lemmatized_tokens = list(map(lambda x: lemmatizer.lemmatize(x, \"v\"), tokens))\n",
    "    # 6. 去停用词\n",
    "    meaningful_words = [x for x in word_list if x not in stop_words] #list(filter(lambda x: not x in stop_words))#, lemmatized_tokens\n",
    "    return meaningful_words\n",
    "\n",
    "stopwords_filepath = \"stop_all.txt\"\n",
    "# stop_words = set(text.ENGLISH_STOP_WORDS)\n",
    "stop_words = load_stopwords(stopwords_filepath)\n",
    "rex = re.compile(r'[!\"#$%&\\()*+,./:;<=>?@\\\\^_{|}~]+')\n",
    "# lemmatizer = WordNetLemmatizer()\n",
    "\n",
    "sentences  = data.sentence.apply(clean_review)"
   ]
  },
  {
   "cell_type": "code",
   "execution_count": 3,
   "metadata": {
    "scrolled": true
   },
   "outputs": [
    {
     "data": {
      "text/plain": [
       "['bromwell',\n",
       " 'high',\n",
       " 'cartoon',\n",
       " 'comedy',\n",
       " 'ran',\n",
       " 'time',\n",
       " 'programs',\n",
       " 'school',\n",
       " 'life',\n",
       " 'teachers',\n",
       " '35',\n",
       " 'years',\n",
       " 'teaching',\n",
       " 'profession',\n",
       " 'lead',\n",
       " 'bromwell',\n",
       " \"high's\",\n",
       " 'satire',\n",
       " 'closer',\n",
       " 'reality',\n",
       " 'teachers',\n",
       " 'scramble',\n",
       " 'survive',\n",
       " 'financially',\n",
       " 'insightful',\n",
       " 'students',\n",
       " 'pathetic',\n",
       " \"teachers'\",\n",
       " 'pomp',\n",
       " 'pettiness',\n",
       " 'situation',\n",
       " 'remind',\n",
       " 'schools',\n",
       " 'i',\n",
       " 'knew',\n",
       " 'students',\n",
       " 'i',\n",
       " 'episode',\n",
       " 'student',\n",
       " 'repeatedly',\n",
       " 'burn',\n",
       " 'school',\n",
       " 'i',\n",
       " 'immediately',\n",
       " 'recalled',\n",
       " 'high',\n",
       " 'classic',\n",
       " 'line',\n",
       " 'inspector',\n",
       " 'sack',\n",
       " 'teachers',\n",
       " 'student',\n",
       " 'bromwell',\n",
       " 'high',\n",
       " 'i',\n",
       " 'expect',\n",
       " 'adults',\n",
       " 'age',\n",
       " 'bromwell',\n",
       " 'high',\n",
       " 'fetched',\n",
       " 'pity']"
      ]
     },
     "execution_count": 3,
     "metadata": {},
     "output_type": "execute_result"
    }
   ],
   "source": [
    "sentences[0]"
   ]
  },
  {
   "cell_type": "code",
   "execution_count": 4,
   "metadata": {},
   "outputs": [
    {
     "data": {
      "text/plain": [
       "75000"
      ]
     },
     "execution_count": 4,
     "metadata": {},
     "output_type": "execute_result"
    }
   ],
   "source": [
    "len(sentences)"
   ]
  },
  {
   "cell_type": "code",
   "execution_count": 7,
   "metadata": {
    "scrolled": true
   },
   "outputs": [
    {
     "name": "stdout",
     "output_type": "stream",
     "text": [
      "中位数： 73.0\n",
      "均值数： 98.32914666666667\n"
     ]
    }
   ],
   "source": [
    "cal_len = pd.DataFrame()\n",
    "cal_len['review_length'] = list(map(len, sentences))\n",
    "print(\"中位数：\", cal_len['review_length'].median())\n",
    "print(\"均值数：\", cal_len['review_length'].mean())\n",
    "del cal_len"
   ]
  },
  {
   "cell_type": "code",
   "execution_count": 8,
   "metadata": {},
   "outputs": [],
   "source": [
    "data['length'] = data['sentence'].apply(lambda x: len(x))\n",
    "len_df = data.groupby('length').count()\n",
    "sent_length = len_df.index.tolist()\n",
    "sent_freq = len_df['sentence'].tolist()"
   ]
  },
  {
   "cell_type": "code",
   "execution_count": 9,
   "metadata": {},
   "outputs": [
    {
     "data": {
      "image/png": "[encoded data removed]",
      "text/plain": [
       "<Figure size 432x288 with 1 Axes>"
      ]
     },
     "metadata": {
      "needs_background": "light"
     },
     "output_type": "display_data"
    }
   ],
   "source": [
    "\n",
    "# 绘制句子长度及出现频数统计图\n",
    "plt.bar(sent_length, sent_freq)\n",
    "plt.title(\"The length of Sentences and the frequency of sentence length\")\n",
    "plt.xlabel(\"The length of Sentences\")\n",
    "plt.ylabel(\"The frequency of sentence length\")\n",
    "plt.savefig(\"./The length of Sentences and the frequency of sentence length.png\")\n",
    "plt.show()\n",
    "plt.close()"
   ]
  },
  {
   "cell_type": "code",
   "execution_count": 10,
   "metadata": {},
   "outputs": [
    {
     "data": {
      "text/plain": [
       "[<matplotlib.lines.Line2D at 0x7f8d08378d30>]"
      ]
     },
     "execution_count": 10,
     "metadata": {},
     "output_type": "execute_result"
    },
    {
     "data": {
      "image/png": "[encoded data removed]",
      "text/plain": [
       "<Figure size 432x288 with 1 Axes>"
      ]
     },
     "metadata": {
      "needs_background": "light"
     },
     "output_type": "display_data"
    }
   ],
   "source": [
    "sent_pentage_list = [(count/sum(sent_freq)) for count in accumulate(sent_freq)]\n",
    "plt.plot(sent_length, sent_pentage_list)"
   ]
  },
  {
   "cell_type": "code",
   "execution_count": 11,
   "metadata": {},
   "outputs": [
    {
     "name": "stdout",
     "output_type": "stream",
     "text": [
      "\n",
      "分位点为0.91的句子长度:2655.\n"
     ]
    }
   ],
   "source": [
    "# 寻找分位点为quantile的句子长度\n",
    "quantile = 0.91\n",
    "#print(list(sent_pentage_list))\n",
    "for length, per in zip(sent_length, sent_pentage_list):\n",
    "    if round(per, 2) == quantile:\n",
    "        index = length\n",
    "        break\n",
    "print(\"\\n分位点为%s的句子长度:%d.\" % (quantile, index))"
   ]
  },
  {
   "cell_type": "code",
   "execution_count": 12,
   "metadata": {},
   "outputs": [
    {
     "data": {
      "image/png": "[encoded data removed]",
      "text/plain": [
       "<Figure size 432x288 with 1 Axes>"
      ]
     },
     "metadata": {
      "needs_background": "light"
     },
     "output_type": "display_data"
    }
   ],
   "source": [
    "# 绘制句子长度累积分布函数图\n",
    "plt.plot(sent_length, sent_pentage_list)\n",
    "plt.hlines(quantile, 0, index, colors=\"c\", linestyles=\"dashed\")\n",
    "plt.vlines(index, 0, quantile, colors=\"c\", linestyles=\"dashed\")\n",
    "plt.text(0, quantile, str(quantile))\n",
    "plt.text(index, 0, str(index))\n",
    "plt.title(\"The graph of cumulative distribution function of sentence length\")\n",
    "plt.xlabel(\"The length of sentences\")\n",
    "plt.ylabel(\"The sentence length accumulates frequency\")\n",
    "plt.savefig(\"./The graph of cumulative distribution function of sentence length.png\")\n",
    "plt.show()\n",
    "plt.close()"
   ]
  },
  {
   "cell_type": "code",
   "execution_count": 13,
   "metadata": {
    "scrolled": true
   },
   "outputs": [],
   "source": [
    "embedding_vector_size = 100\n",
    "w2v_model = Word2Vec(\n",
    "    sentences=sentences,\n",
    "    size=embedding_vector_size,sg=1, hs=1,\n",
    "    min_count=2, window=5, workers=4)\n",
    "w2v_model.save(\"word2vec_100dim_sg1_hs1.model\")"
   ]
  },
  {
   "cell_type": "code",
   "execution_count": 14,
   "metadata": {},
   "outputs": [],
   "source": [
    "embedding_vector_size = 200\n",
    "w2v_model = Word2Vec(\n",
    "    sentences=sentences,\n",
    "    size=embedding_vector_size,sg=1, hs=1,\n",
    "    min_count=2, window=5, workers=4)\n",
    "w2v_model.save(\"word2vec_\"+str(embedding_vector_size)+\"dim_sg1_hs1.model\")"
   ]
  },
  {
   "cell_type": "code",
   "execution_count": 17,
   "metadata": {
    "scrolled": true
   },
   "outputs": [],
   "source": [
    "import numpy as np\n",
    "w2v_model = Word2Vec.load('word2vec_100dim_sg1_hs1.model')\n",
    "\n",
    "\n",
    "# 取得所有单词\n",
    "vocab_list = list(w2v_model.wv.vocab.keys())\n",
    "# 每个词语对应的索引\n",
    "word_index = {word: index for index, word in enumerate(vocab_list)}\n",
    "# 序列化\n",
    "def get_index(sentence):\n",
    "    global word_index\n",
    "    sequence = []\n",
    "    for word in sentence:\n",
    "        try:\n",
    "            sequence.append(word_index[word])\n",
    "        except KeyError:\n",
    "            pass\n",
    "    return sequence\n",
    "X_data = list(map(get_index, sentences))\n",
    "\n",
    "# 截长补短\n",
    "# max_len 根据中位数和平均值得来的\n",
    "maxlen = 100\n",
    "X_pad = pad_sequences(X_data, maxlen=maxlen)\n",
    "# 取得标签\n",
    "Y = data.label.values\n",
    "np.save(\"Y.npy\",Y)\n",
    "# 划分数据集\n",
    "X_train, X_test, Y_train, Y_test = train_test_split(\n",
    "    X_pad,\n",
    "    Y,\n",
    "    test_size=0.2,\n",
    "    random_state=42)\n",
    "np.save(\"X_train.npy\",X_train)\n",
    "np.save(\"X_test.npy\",X_test)\n",
    "np.save(\"Y_train.npy\",Y_train)\n",
    "np.save(\"Y_test.npy\",Y_test)\n",
    "np.save(\"all_sentences.npy\",sentences)"
   ]
  },
  {
   "cell_type": "code",
   "execution_count": 28,
   "metadata": {},
   "outputs": [
    {
     "name": "stdout",
     "output_type": "stream",
     "text": [
      "Train on 60000 samples, validate on 15000 samples\n",
      "Epoch 1/100\n",
      "60000/60000 [==============================] - 11s 185us/step - loss: 0.7156 - acc: 0.5054 - val_loss: 0.6787 - val_acc: 0.5513\n",
      "Epoch 2/100\n",
      "60000/60000 [==============================] - 9s 154us/step - loss: 0.6743 - acc: 0.5810 - val_loss: 0.6431 - val_acc: 0.6285\n",
      "Epoch 3/100\n",
      "60000/60000 [==============================] - 9s 152us/step - loss: 0.6569 - acc: 0.6065 - val_loss: 0.6395 - val_acc: 0.6310\n",
      "Epoch 4/100\n",
      "60000/60000 [==============================] - 9s 157us/step - loss: 0.6393 - acc: 0.6305 - val_loss: 0.6214 - val_acc: 0.6486\n",
      "Epoch 5/100\n",
      "60000/60000 [==============================] - 9s 154us/step - loss: 0.6252 - acc: 0.6449 - val_loss: 0.6126 - val_acc: 0.6545\n",
      "Epoch 6/100\n",
      "60000/60000 [==============================] - 9s 149us/step - loss: 0.6181 - acc: 0.6561 - val_loss: 0.6087 - val_acc: 0.6599\n",
      "Epoch 7/100\n",
      "60000/60000 [==============================] - 9s 152us/step - loss: 0.6161 - acc: 0.6565 - val_loss: 0.6010 - val_acc: 0.6695\n",
      "Epoch 8/100\n",
      "60000/60000 [==============================] - 9s 145us/step - loss: 0.5990 - acc: 0.6742 - val_loss: 0.5995 - val_acc: 0.6677\n",
      "Epoch 9/100\n",
      "60000/60000 [==============================] - 9s 145us/step - loss: 0.5947 - acc: 0.6777 - val_loss: 0.5793 - val_acc: 0.6888\n",
      "Epoch 10/100\n",
      "60000/60000 [==============================] - 9s 153us/step - loss: 0.5860 - acc: 0.6869 - val_loss: 0.5732 - val_acc: 0.6958\n",
      "Epoch 11/100\n",
      "60000/60000 [==============================] - 10s 162us/step - loss: 0.5856 - acc: 0.6900 - val_loss: 0.5892 - val_acc: 0.6757\n",
      "Epoch 12/100\n",
      "60000/60000 [==============================] - 9s 156us/step - loss: 0.5751 - acc: 0.6950 - val_loss: 0.5679 - val_acc: 0.7010\n",
      "Epoch 13/100\n",
      "60000/60000 [==============================] - 9s 148us/step - loss: 0.5622 - acc: 0.7076 - val_loss: 0.5629 - val_acc: 0.7029\n",
      "Epoch 14/100\n",
      "60000/60000 [==============================] - 9s 149us/step - loss: 0.5567 - acc: 0.7108 - val_loss: 0.5402 - val_acc: 0.7219\n",
      "Epoch 15/100\n",
      "60000/60000 [==============================] - 9s 142us/step - loss: 0.5488 - acc: 0.7205 - val_loss: 0.5442 - val_acc: 0.7211\n",
      "Epoch 16/100\n",
      "60000/60000 [==============================] - 9s 144us/step - loss: 0.5429 - acc: 0.7224 - val_loss: 0.5271 - val_acc: 0.7353\n",
      "Epoch 17/100\n",
      "60000/60000 [==============================] - 9s 143us/step - loss: 0.5361 - acc: 0.7278 - val_loss: 0.5206 - val_acc: 0.7373\n",
      "Epoch 18/100\n",
      "60000/60000 [==============================] - 9s 153us/step - loss: 0.5257 - acc: 0.7357 - val_loss: 0.5126 - val_acc: 0.7447\n",
      "Epoch 19/100\n",
      "60000/60000 [==============================] - 9s 148us/step - loss: 0.5270 - acc: 0.7368 - val_loss: 0.5123 - val_acc: 0.7445\n",
      "Epoch 20/100\n",
      "60000/60000 [==============================] - 9s 143us/step - loss: 0.5170 - acc: 0.7436 - val_loss: 0.5118 - val_acc: 0.7443\n",
      "Epoch 21/100\n",
      "60000/60000 [==============================] - 9s 147us/step - loss: 0.5042 - acc: 0.7523 - val_loss: 0.4977 - val_acc: 0.7557\n",
      "Epoch 22/100\n",
      "60000/60000 [==============================] - 9s 151us/step - loss: 0.4963 - acc: 0.7585 - val_loss: 0.5165 - val_acc: 0.7353\n",
      "Epoch 23/100\n",
      "60000/60000 [==============================] - 9s 151us/step - loss: 0.4968 - acc: 0.7571 - val_loss: 0.4861 - val_acc: 0.7648\n",
      "Epoch 24/100\n",
      "60000/60000 [==============================] - 9s 147us/step - loss: 0.4865 - acc: 0.7626 - val_loss: 0.5198 - val_acc: 0.7384\n",
      "Epoch 25/100\n",
      "60000/60000 [==============================] - 9s 148us/step - loss: 0.4854 - acc: 0.7653 - val_loss: 0.4813 - val_acc: 0.7679\n",
      "Epoch 26/100\n",
      "60000/60000 [==============================] - 9s 152us/step - loss: 0.4733 - acc: 0.7736 - val_loss: 0.4736 - val_acc: 0.7731\n",
      "Epoch 27/100\n",
      "60000/60000 [==============================] - 10s 159us/step - loss: 0.4712 - acc: 0.7758 - val_loss: 0.4935 - val_acc: 0.7621\n",
      "Epoch 28/100\n",
      "60000/60000 [==============================] - 9s 148us/step - loss: 0.4679 - acc: 0.7785 - val_loss: 0.4657 - val_acc: 0.7790\n",
      "Epoch 29/100\n",
      "60000/60000 [==============================] - 9s 152us/step - loss: 0.4568 - acc: 0.7839 - val_loss: 0.4621 - val_acc: 0.7801\n",
      "Epoch 30/100\n",
      "60000/60000 [==============================] - 9s 157us/step - loss: 0.4546 - acc: 0.7846 - val_loss: 0.4566 - val_acc: 0.7852\n",
      "Epoch 31/100\n",
      "60000/60000 [==============================] - 10s 158us/step - loss: 0.4467 - acc: 0.7906 - val_loss: 0.4572 - val_acc: 0.7853\n",
      "Epoch 32/100\n",
      "60000/60000 [==============================] - 9s 158us/step - loss: 0.4465 - acc: 0.7912 - val_loss: 0.4773 - val_acc: 0.7665\n",
      "Epoch 33/100\n",
      "60000/60000 [==============================] - 9s 153us/step - loss: 0.4436 - acc: 0.7937 - val_loss: 0.4549 - val_acc: 0.7848\n",
      "Epoch 34/100\n",
      "60000/60000 [==============================] - 9s 153us/step - loss: 0.4340 - acc: 0.7965 - val_loss: 0.4433 - val_acc: 0.7931\n",
      "Epoch 35/100\n",
      "60000/60000 [==============================] - 9s 145us/step - loss: 0.4302 - acc: 0.8018 - val_loss: 0.4811 - val_acc: 0.7678\n",
      "Epoch 36/100\n",
      "60000/60000 [==============================] - 9s 146us/step - loss: 0.4314 - acc: 0.7984 - val_loss: 0.4397 - val_acc: 0.7955\n",
      "Epoch 37/100\n",
      "60000/60000 [==============================] - 9s 150us/step - loss: 0.4145 - acc: 0.8085 - val_loss: 0.4629 - val_acc: 0.7782\n",
      "Epoch 38/100\n",
      "60000/60000 [==============================] - 9s 144us/step - loss: 0.4172 - acc: 0.8077 - val_loss: 0.4507 - val_acc: 0.7831\n",
      "Epoch 39/100\n",
      "60000/60000 [==============================] - 8s 142us/step - loss: 0.4215 - acc: 0.8051 - val_loss: 0.4386 - val_acc: 0.7956\n",
      "Epoch 40/100\n",
      "60000/60000 [==============================] - 9s 149us/step - loss: 0.4052 - acc: 0.8141 - val_loss: 0.4289 - val_acc: 0.8014\n",
      "Epoch 41/100\n",
      "60000/60000 [==============================] - 9s 146us/step - loss: 0.4074 - acc: 0.8133 - val_loss: 0.4277 - val_acc: 0.8007\n",
      "Epoch 42/100\n",
      "60000/60000 [==============================] - 9s 155us/step - loss: 0.3990 - acc: 0.8178 - val_loss: 0.4222 - val_acc: 0.8067\n",
      "Epoch 43/100\n",
      "60000/60000 [==============================] - 9s 146us/step - loss: 0.3920 - acc: 0.8233 - val_loss: 0.4454 - val_acc: 0.7916\n",
      "Epoch 44/100\n",
      "60000/60000 [==============================] - 9s 158us/step - loss: 0.3921 - acc: 0.8211 - val_loss: 0.4162 - val_acc: 0.8091\n",
      "Epoch 45/100\n",
      "60000/60000 [==============================] - 9s 155us/step - loss: 0.3794 - acc: 0.8309 - val_loss: 0.4419 - val_acc: 0.7943\n",
      "Epoch 46/100\n",
      "60000/60000 [==============================] - 9s 157us/step - loss: 0.3862 - acc: 0.8248 - val_loss: 0.4129 - val_acc: 0.8107\n",
      "Epoch 47/100\n",
      "60000/60000 [==============================] - 9s 154us/step - loss: 0.3732 - acc: 0.8333 - val_loss: 0.4103 - val_acc: 0.8118\n",
      "Epoch 48/100\n",
      "60000/60000 [==============================] - 9s 152us/step - loss: 0.3684 - acc: 0.8347 - val_loss: 0.4087 - val_acc: 0.8171\n",
      "Epoch 49/100\n",
      "60000/60000 [==============================] - 9s 142us/step - loss: 0.3647 - acc: 0.8376 - val_loss: 0.4070 - val_acc: 0.8179\n",
      "Epoch 50/100\n",
      "60000/60000 [==============================] - 9s 144us/step - loss: 0.3598 - acc: 0.8391 - val_loss: 0.4072 - val_acc: 0.8173\n",
      "Epoch 51/100\n",
      "60000/60000 [==============================] - 9s 153us/step - loss: 0.3588 - acc: 0.8400 - val_loss: 0.4326 - val_acc: 0.8080\n",
      "Epoch 52/100\n",
      "60000/60000 [==============================] - 9s 149us/step - loss: 0.3554 - acc: 0.8432 - val_loss: 0.4005 - val_acc: 0.8213\n",
      "Epoch 53/100\n",
      "60000/60000 [==============================] - 9s 147us/step - loss: 0.3510 - acc: 0.8449 - val_loss: 0.4126 - val_acc: 0.8147\n",
      "Epoch 54/100\n",
      "60000/60000 [==============================] - 8s 141us/step - loss: 0.3483 - acc: 0.8450 - val_loss: 0.3957 - val_acc: 0.8267\n",
      "Epoch 55/100\n",
      "60000/60000 [==============================] - 9s 153us/step - loss: 0.3431 - acc: 0.8484 - val_loss: 0.4462 - val_acc: 0.7927\n",
      "Epoch 56/100\n",
      "60000/60000 [==============================] - 9s 153us/step - loss: 0.3461 - acc: 0.8457 - val_loss: 0.3902 - val_acc: 0.8279\n",
      "Epoch 57/100\n",
      "60000/60000 [==============================] - 9s 149us/step - loss: 0.3320 - acc: 0.8530 - val_loss: 0.3997 - val_acc: 0.8238\n",
      "Epoch 58/100\n",
      "60000/60000 [==============================] - 9s 151us/step - loss: 0.3358 - acc: 0.8516 - val_loss: 0.4069 - val_acc: 0.8167\n",
      "Epoch 59/100\n",
      "60000/60000 [==============================] - 9s 147us/step - loss: 0.3282 - acc: 0.8573 - val_loss: 0.3837 - val_acc: 0.8312\n",
      "Epoch 60/100\n",
      "60000/60000 [==============================] - 9s 152us/step - loss: 0.3287 - acc: 0.8567 - val_loss: 0.3984 - val_acc: 0.8238\n",
      "Epoch 61/100\n",
      "60000/60000 [==============================] - 9s 142us/step - loss: 0.3162 - acc: 0.8634 - val_loss: 0.3886 - val_acc: 0.8292\n",
      "Epoch 62/100\n",
      "60000/60000 [==============================] - 9s 149us/step - loss: 0.3082 - acc: 0.8669 - val_loss: 0.3864 - val_acc: 0.8334\n",
      "Epoch 63/100\n",
      "60000/60000 [==============================] - 9s 151us/step - loss: 0.3038 - acc: 0.8685 - val_loss: 0.3986 - val_acc: 0.8323\n",
      "Epoch 64/100\n",
      "60000/60000 [==============================] - 9s 155us/step - loss: 0.2987 - acc: 0.8724 - val_loss: 0.3787 - val_acc: 0.8364\n",
      "Epoch 65/100\n",
      "60000/60000 [==============================] - 9s 156us/step - loss: 0.2988 - acc: 0.8716 - val_loss: 0.3765 - val_acc: 0.8371\n",
      "Epoch 66/100\n",
      "60000/60000 [==============================] - 10s 161us/step - loss: 0.2923 - acc: 0.8766 - val_loss: 0.3848 - val_acc: 0.8361\n",
      "Epoch 67/100\n",
      "60000/60000 [==============================] - 9s 158us/step - loss: 0.2814 - acc: 0.8801 - val_loss: 0.3744 - val_acc: 0.8423\n",
      "Epoch 68/100\n",
      "60000/60000 [==============================] - 9s 150us/step - loss: 0.2831 - acc: 0.8783 - val_loss: 0.3771 - val_acc: 0.8423\n",
      "Epoch 69/100\n",
      "60000/60000 [==============================] - 9s 153us/step - loss: 0.2761 - acc: 0.8836 - val_loss: 0.4174 - val_acc: 0.8288\n",
      "Epoch 70/100\n",
      "60000/60000 [==============================] - 9s 147us/step - loss: 0.2858 - acc: 0.8790 - val_loss: 0.3920 - val_acc: 0.8306\n",
      "Epoch 71/100\n",
      "60000/60000 [==============================] - 9s 143us/step - loss: 0.2703 - acc: 0.8857 - val_loss: 0.3915 - val_acc: 0.8429\n",
      "Epoch 72/100\n",
      "60000/60000 [==============================] - 9s 147us/step - loss: 0.2639 - acc: 0.8890 - val_loss: 0.3647 - val_acc: 0.8481\n",
      "Epoch 73/100\n",
      "60000/60000 [==============================] - 9s 147us/step - loss: 0.2600 - acc: 0.8902 - val_loss: 0.3780 - val_acc: 0.8455\n",
      "Epoch 74/100\n",
      "60000/60000 [==============================] - 9s 154us/step - loss: 0.2526 - acc: 0.8943 - val_loss: 0.3713 - val_acc: 0.8488\n",
      "Epoch 75/100\n",
      "60000/60000 [==============================] - 9s 150us/step - loss: 0.2466 - acc: 0.8969 - val_loss: 0.3696 - val_acc: 0.8460\n",
      "Epoch 76/100\n",
      "60000/60000 [==============================] - 9s 150us/step - loss: 0.2486 - acc: 0.8965 - val_loss: 0.3684 - val_acc: 0.8506\n",
      "Epoch 77/100\n",
      "60000/60000 [==============================] - 9s 144us/step - loss: 0.2416 - acc: 0.9012 - val_loss: 0.3675 - val_acc: 0.8495\n",
      "Epoch 78/100\n",
      "60000/60000 [==============================] - 9s 149us/step - loss: 0.2338 - acc: 0.9036 - val_loss: 0.3835 - val_acc: 0.8511\n",
      "Epoch 79/100\n",
      "60000/60000 [==============================] - 9s 144us/step - loss: 0.2349 - acc: 0.9029 - val_loss: 0.3672 - val_acc: 0.8543\n",
      "Epoch 80/100\n",
      "60000/60000 [==============================] - 9s 149us/step - loss: 0.2280 - acc: 0.9062 - val_loss: 0.3610 - val_acc: 0.8579\n",
      "Epoch 81/100\n",
      "60000/60000 [==============================] - 9s 147us/step - loss: 0.2299 - acc: 0.9053 - val_loss: 0.3691 - val_acc: 0.8559\n",
      "Epoch 82/100\n",
      "60000/60000 [==============================] - 9s 146us/step - loss: 0.2226 - acc: 0.9086 - val_loss: 0.3626 - val_acc: 0.8565\n",
      "Epoch 83/100\n",
      "60000/60000 [==============================] - 9s 152us/step - loss: 0.2173 - acc: 0.9121 - val_loss: 0.3827 - val_acc: 0.8541\n",
      "Epoch 84/100\n",
      "60000/60000 [==============================] - 9s 154us/step - loss: 0.2174 - acc: 0.9119 - val_loss: 0.3602 - val_acc: 0.8569\n",
      "Epoch 85/100\n",
      "60000/60000 [==============================] - 9s 149us/step - loss: 0.2193 - acc: 0.9107 - val_loss: 0.3580 - val_acc: 0.8591\n",
      "Epoch 86/100\n",
      "60000/60000 [==============================] - 10s 158us/step - loss: 0.2054 - acc: 0.9176 - val_loss: 0.3718 - val_acc: 0.8577\n",
      "Epoch 87/100\n",
      "60000/60000 [==============================] - 9s 153us/step - loss: 0.2019 - acc: 0.9181 - val_loss: 0.3689 - val_acc: 0.8591\n",
      "Epoch 88/100\n",
      "60000/60000 [==============================] - 10s 161us/step - loss: 0.1994 - acc: 0.9209 - val_loss: 0.3521 - val_acc: 0.8631\n",
      "Epoch 89/100\n",
      "60000/60000 [==============================] - 9s 157us/step - loss: 0.1997 - acc: 0.9194 - val_loss: 0.3603 - val_acc: 0.8643\n",
      "Epoch 90/100\n",
      "60000/60000 [==============================] - 9s 153us/step - loss: 0.1947 - acc: 0.9228 - val_loss: 0.3768 - val_acc: 0.8683\n",
      "Epoch 91/100\n",
      "60000/60000 [==============================] - 9s 145us/step - loss: 0.1957 - acc: 0.9220 - val_loss: 0.3658 - val_acc: 0.8678\n",
      "Epoch 92/100\n",
      "60000/60000 [==============================] - 9s 153us/step - loss: 0.1856 - acc: 0.9266 - val_loss: 0.3556 - val_acc: 0.8688\n",
      "Epoch 93/100\n",
      "60000/60000 [==============================] - 9s 146us/step - loss: 0.1785 - acc: 0.9289 - val_loss: 0.3549 - val_acc: 0.8722\n",
      "Epoch 94/100\n",
      "60000/60000 [==============================] - 9s 150us/step - loss: 0.1769 - acc: 0.9293 - val_loss: 0.3540 - val_acc: 0.8704\n",
      "Epoch 95/100\n",
      "60000/60000 [==============================] - 9s 154us/step - loss: 0.1793 - acc: 0.9295 - val_loss: 0.3523 - val_acc: 0.8733\n",
      "Epoch 96/100\n",
      "60000/60000 [==============================] - 9s 155us/step - loss: 0.1696 - acc: 0.9328 - val_loss: 0.3741 - val_acc: 0.8749\n",
      "Epoch 97/100\n",
      "60000/60000 [==============================] - 9s 152us/step - loss: 0.1727 - acc: 0.9321 - val_loss: 0.3648 - val_acc: 0.8752\n",
      "Epoch 98/100\n",
      "60000/60000 [==============================] - 9s 152us/step - loss: 0.1696 - acc: 0.9338 - val_loss: 0.3644 - val_acc: 0.8705\n",
      "Epoch 99/100\n",
      "60000/60000 [==============================] - 9s 150us/step - loss: 0.1649 - acc: 0.9363 - val_loss: 0.3920 - val_acc: 0.8581\n",
      "Epoch 100/100\n",
      "60000/60000 [==============================] - 9s 146us/step - loss: 0.1661 - acc: 0.9345 - val_loss: 0.3682 - val_acc: 0.8749\n"
     ]
    }
   ],
   "source": [
    "from keras.models import Sequential\n",
    "from keras.layers import Embedding, Bidirectional, LSTM, Dropout, Dense\n",
    "from keras.callbacks import TensorBoard\n",
    "\n",
    "# 让 Keras 的 Embedding 层使用训练好的Word2Vec权重\n",
    "embedding_matrix = w2v_model.wv.vectors\n",
    "\n",
    "model = Sequential()\n",
    "model.add(Embedding(\n",
    "    input_dim=embedding_matrix.shape[0],\n",
    "    output_dim=embedding_matrix.shape[1],\n",
    "    input_length=maxlen,\n",
    "    weights=[embedding_matrix],\n",
    "    trainable=False))\n",
    "model.add(Bidirectional(LSTM(128, recurrent_dropout=0.1)))\n",
    "model.add(Dropout(0.25))\n",
    "model.add(Dense(128, activation='sigmoid'))\n",
    "model.add(Dropout(0.3))\n",
    "model.add(Dense(1, activation='sigmoid'))\n",
    "\n",
    "model.compile(\n",
    "    loss=\"binary_crossentropy\",\n",
    "    optimizer='adam',\n",
    "    metrics=['accuracy']\n",
    ")\n",
    "# logdir = \"./logs/\"\n",
    "# tensorBoard = TensorBoard(log_dir = logdir,\n",
    "#                                     histogram_freq = 1,\n",
    "#                                     write_graph = True,\n",
    "#                                     write_images = False,\n",
    "#                                     embeddings_freq = 1,\n",
    "#                                     embeddings_layer_names = None,\n",
    "#                                     embeddings_metadata = None)\n",
    "\n",
    "history = model.fit(\n",
    "    x=X_train,\n",
    "    y=Y_train,\n",
    "    validation_data=(X_test, Y_test),\n",
    "    batch_size=2048,\n",
    "    epochs=100,\n",
    "#     callbacks=[tensorBoard]\n",
    ") \n",
    "# model_save_path= './labelled_train_test_model.h5'\n",
    "model_save_path= './imdb_train_test_model_BILSTM2.h5'\n",
    "model.save(model_save_path)"
   ]
  },
  {
   "cell_type": "code",
   "execution_count": 29,
   "metadata": {},
   "outputs": [],
   "source": [
    "def plot_loss_accuracy(his):\n",
    "    loss = his.history['loss']\n",
    "    val_loss = his.history['val_loss']\n",
    "    acc = his.history['acc']\n",
    "    val_acc = his.history['val_acc']\n",
    "\n",
    "    # make a figure\n",
    "    fig = plt.figure(figsize=(12,6))\n",
    "    # subplot loss\n",
    "    ax1 = fig.add_subplot(121)\n",
    "    ax1.plot(loss,label='train_loss')\n",
    "    ax1.plot(val_loss,label='val_loss')\n",
    "    ax1.set_xlabel('Epochs')\n",
    "    ax1.set_ylabel('Loss')\n",
    "    ax1.set_title('Loss on Training and Validation Data')\n",
    "    ax1.legend()\n",
    "    # subplot acc\n",
    "    ax2 = fig.add_subplot(122)\n",
    "    ax2.plot(acc,label='train_acc')\n",
    "    ax2.plot(val_acc,label='val_acc')\n",
    "    ax2.set_xlabel('Epochs')\n",
    "    ax2.set_ylabel('Accuracy')\n",
    "    ax2.set_title('Accuracy  on Training and Validation Data')\n",
    "    ax2.legend()\n",
    "    plt.tight_layout()"
   ]
  },
  {
   "cell_type": "code",
   "execution_count": 30,
   "metadata": {},
   "outputs": [
    {
     "data": {
      "image/png": "[encoded data removed]",
      "text/plain": [
       "<Figure size 864x432 with 2 Axes>"
      ]
     },
     "metadata": {
      "needs_background": "light"
     },
     "output_type": "display_data"
    }
   ],
   "source": [
    "plot_loss_accuracy(history)"
   ]
  },
  {
   "cell_type": "code",
   "execution_count": 31,
   "metadata": {},
   "outputs": [],
   "source": [
    "\n",
    "\n",
    "def plot_confusion_matrix(cm, classes,title=\"Confusion Matrix\",cmap=plt.cm.Blues):\n",
    "    \"\"\"\n",
    "    The function prints and plots the confusion matrix\n",
    "    \"\"\"\n",
    "    plt.imshow(cm,interpolation=\"nearest\",cmap=cmap)\n",
    "    plt.title(title)\n",
    "    plt.colorbar()\n",
    "    tick_marks = np.arange(len(classes))\n",
    "    plt.xticks(tick_marks,classes,rotation=0)\n",
    "    plt.yticks(tick_marks,classes)\n",
    "    \n",
    "    thresh = cm.max() / 2\n",
    "    for i, j in itertools.product(range(cm.shape[0]),range(cm.shape[1])):\n",
    "        plt.text(j, i, cm[i,j],horizontalalignment = 'center',\n",
    "        color=\"white\" if cm[i,j]>thresh else\"black\")\n",
    "        \n",
    "    plt.tight_layout()\n",
    "    plt.ylabel(\"True label\")"
   ]
  },
  {
   "cell_type": "code",
   "execution_count": 32,
   "metadata": {},
   "outputs": [
    {
     "name": "stdout",
     "output_type": "stream",
     "text": [
      "accuracy metric in the testing dataset:  0.8749333333333333\n",
      "precision metric in the testing dataset:  0.8833693304535637\n",
      "recall metric in the testing dataset:  0.8660667019587083\n",
      "specificity metric in the testing dataset:  0.8839333691563676\n",
      "F1 score metric in the testing dataset:  0.8746324512162523\n"
     ]
    },
    {
     "data": {
      "image/png": "[encoded data removed]",
      "text/plain": [
       "<Figure size 432x288 with 2 Axes>"
      ]
     },
     "metadata": {
      "needs_background": "light"
     },
     "output_type": "display_data"
    }
   ],
   "source": [
    "from sklearn.metrics import confusion_matrix\n",
    "y_pred = model.predict_classes(X_test)\n",
    "cnf_matrix = confusion_matrix(Y_test, y_pred)\n",
    "accuracy = (cnf_matrix[0,0]+cnf_matrix[1,1])/(cnf_matrix[0,0]+cnf_matrix[0,1]+cnf_matrix[1,0]+cnf_matrix[1,1])\n",
    "precision = cnf_matrix[1,1]/(cnf_matrix[1,1]+cnf_matrix[0,1])\n",
    "recall = cnf_matrix[1,1]/(cnf_matrix[1,1]+cnf_matrix[1,0])\n",
    "specificity = cnf_matrix[0,0]/(cnf_matrix[0,0]+cnf_matrix[0,1])\n",
    "f1 = 2*precision*recall/(precision+recall)\n",
    "print(\"accuracy metric in the testing dataset: \", accuracy)\n",
    "print(\"precision metric in the testing dataset: \", precision)\n",
    "print(\"recall metric in the testing dataset: \", recall)\n",
    "print(\"specificity metric in the testing dataset: \", specificity)\n",
    "print(\"F1 score metric in the testing dataset: \", f1)\n",
    "class_names=[0,1]\n",
    "plt.figure\n",
    "plot_confusion_matrix(cnf_matrix,classes=class_names, title=\"Confusion matrix\")\n",
    "plt.show()"
   ]
  },
  {
   "cell_type": "code",
   "execution_count": 73,
   "metadata": {},
   "outputs": [],
   "source": [
    "# 序列化\n",
    "def get_predict_index(sentence,word_index):\n",
    "    sequence = []\n",
    "    for word in sentence:\n",
    "        try:\n",
    "            sequence.append(word_index[word])\n",
    "        except KeyError:\n",
    "            continue\n",
    "    return sequence"
   ]
  },
  {
   "cell_type": "code",
   "execution_count": 74,
   "metadata": {},
   "outputs": [],
   "source": [
    "from keras.models import load_model\n",
    "def predict(text,word2_vecpath,model_path):\n",
    "    predict_model = load_model(model_path)\n",
    "    stopwords = load_stopwords(\"stop_all.txt\")\n",
    "    sentence = clean_review(text)\n",
    "    w2v = Word2Vec.load(word2_vecpath)\n",
    "    # 取得所有单词\n",
    "    vocab_list = list(w2v_model.wv.vocab.keys())\n",
    "    # 每个词语对应的索引\n",
    "    word_index = {word: index for index, word in enumerate(vocab_list)}\n",
    "    seq_sentence = get_predict_index(sentence,word_index)\n",
    "    maxlen = 100\n",
    "    X_pad = pad_sequences([seq_sentence], maxlen=maxlen)\n",
    "    y_pred = predict_model.predict_classes(X_pad)\n",
    "    t_prob = predict_model.predict_proba(X_pad)\n",
    "    print(y_pred,t_prob)"
   ]
  },
  {
   "cell_type": "code",
   "execution_count": 75,
   "metadata": {},
   "outputs": [
    {
     "name": "stdout",
     "output_type": "stream",
     "text": [
      "[[1]] [[0.9754706]]\n"
     ]
    }
   ],
   "source": [
    "text=\"This movie is one among the very few Indian movies, that would never fade away with the passage of time, nor would its spell binding appeal ever diminish, even as the Indian cinema transforms into the abyss of artificially styled pop culture while drill oriented extras take to enhancing the P.T. styled film songs.<br /><br />The cinematography speaks of the excellent skills of Josef Werching that accentuate the monumental and cinema scope effect of the film in its entirety.<br /><br />Gone are the days of great cinema, when every scene had to be clipped many times and retakes taken before finalizing it, while meticulous attention was paid in crafting and editing the scenes. Some of its poignant scenes are filled with sublime emotional intensity, like the instance, when Meena Kumari refuses to say \\\"YES\\\" as an approval for Nikah (Marriage Bond) and climbs down the hill while running berserk in traumatized frenzy. At the moment, Raj Kumar follows her, and a strong gale of wind blew away the veil of Kumari and onto the legs of Kumar........<br /><br />Kamal Amrohi shall always be remembered with golden words in the annals of Indian Cinema's history for endeavoring to complete this movie in a record setting 12 years. He had to manage filming of some of the vital songs without Meena's close ups, because Meena Kumari, the lady in the lead role was terminally ill and fighting for her life in early 1971.\"\n",
    "word2_vecpath='./word2vec_100dim_sg1_hs1.model'\n",
    "model_path=\"./imdb_train_test_model_BILSTM2.h5\"\n",
    "predict(text,word2_vecpath,model_path)"
   ]
  },
  {
   "cell_type": "code",
   "execution_count": 65,
   "metadata": {},
   "outputs": [
    {
     "data": {
      "text/plain": [
       "[12422,\n",
       " 72274,\n",
       " 78289,\n",
       " 106698,\n",
       " 109854,\n",
       " 117079,\n",
       " 27431,\n",
       " 83963,\n",
       " 19752,\n",
       " 29019,\n",
       " 72274,\n",
       " 76890,\n",
       " 7332,\n",
       " 33041,\n",
       " 14062,\n",
       " 59045,\n",
       " 101917,\n",
       " 27382,\n",
       " 94663,\n",
       " 85404,\n",
       " 32125,\n",
       " 80633,\n",
       " 80857,\n",
       " 67119,\n",
       " 59045,\n",
       " 13352,\n",
       " 8705,\n",
       " 76687,\n",
       " 16311,\n",
       " 43355,\n",
       " 81134,\n",
       " 101767,\n",
       " 72849,\n",
       " 19,\n",
       " 63625,\n",
       " 76890,\n",
       " 79320,\n",
       " 54644,\n",
       " 13352,\n",
       " 64818,\n",
       " 54441,\n",
       " 82665,\n",
       " 76890,\n",
       " 55652,\n",
       " 48999,\n",
       " 11943,\n",
       " 106011,\n",
       " 90473,\n",
       " 82242,\n",
       " 117923,\n",
       " 84733,\n",
       " 89113,\n",
       " 115191,\n",
       " 95555,\n",
       " 68979,\n",
       " 95555,\n",
       " 100938,\n",
       " 14679,\n",
       " 38080,\n",
       " 108476,\n",
       " 2132,\n",
       " 112291,\n",
       " 23656,\n",
       " 39767,\n",
       " 95827,\n",
       " 88894,\n",
       " 18683,\n",
       " 38644,\n",
       " 7700,\n",
       " 55875,\n",
       " 57334,\n",
       " 28543,\n",
       " 41577,\n",
       " 45799,\n",
       " 105850,\n",
       " 66357,\n",
       " 55774,\n",
       " 115887,\n",
       " 105238,\n",
       " 7623,\n",
       " 52175,\n",
       " 81011,\n",
       " 23656,\n",
       " 86751,\n",
       " 55774,\n",
       " 71671,\n",
       " 3539,\n",
       " 32350,\n",
       " 70511,\n",
       " 103392,\n",
       " 117002,\n",
       " 72274,\n",
       " 47784,\n",
       " 94684,\n",
       " 82850,\n",
       " 66796,\n",
       " 12422,\n",
       " 92882,\n",
       " 3594,\n",
       " 116502,\n",
       " 34218,\n",
       " 109537,\n",
       " 86699,\n",
       " 20905,\n",
       " 8705,\n",
       " 73808,\n",
       " 29541,\n",
       " 46290,\n",
       " 112291,\n",
       " 23656,\n",
       " 38871,\n",
       " 5031,\n",
       " 2635,\n",
       " 21930,\n",
       " 16888,\n",
       " 51294,\n",
       " 40985,\n",
       " 112698,\n",
       " 53474]"
      ]
     },
     "execution_count": 65,
     "metadata": {},
     "output_type": "execute_result"
    }
   ],
   "source": [
    "stopwords = load_stopwords(\"stop_all.txt\")\n",
    "sentence = clean_review(text)\n",
    "w2v = Word2Vec.load(word2_vecpath)\n",
    "# 取得所有单词\n",
    "vocab_list = list(w2v_model.wv.vocab.keys())\n",
    "# 每个词语对应的索引\n",
    "word_index = {word: index for index, word in enumerate(vocab_list)}\n",
    "seq_sentence = get_predict_index(sentence,word_index)\n",
    "maxlen = 100\n",
    "seq_sentence"
   ]
  },
  {
   "cell_type": "code",
   "execution_count": 66,
   "metadata": {},
   "outputs": [
    {
     "data": {
      "text/plain": [
       "array([[ 85404,  32125,  80633,  80857,  67119,  59045,  13352,   8705,\n",
       "         76687,  16311,  43355,  81134, 101767,  72849,     19,  63625,\n",
       "         76890,  79320,  54644,  13352,  64818,  54441,  82665,  76890,\n",
       "         55652,  48999,  11943, 106011,  90473,  82242, 117923,  84733,\n",
       "         89113, 115191,  95555,  68979,  95555, 100938,  14679,  38080,\n",
       "        108476,   2132, 112291,  23656,  39767,  95827,  88894,  18683,\n",
       "         38644,   7700,  55875,  57334,  28543,  41577,  45799, 105850,\n",
       "         66357,  55774, 115887, 105238,   7623,  52175,  81011,  23656,\n",
       "         86751,  55774,  71671,   3539,  32350,  70511, 103392, 117002,\n",
       "         72274,  47784,  94684,  82850,  66796,  12422,  92882,   3594,\n",
       "        116502,  34218, 109537,  86699,  20905,   8705,  73808,  29541,\n",
       "         46290, 112291,  23656,  38871,   5031,   2635,  21930,  16888,\n",
       "         51294,  40985, 112698,  53474]], dtype=int32)"
      ]
     },
     "execution_count": 66,
     "metadata": {},
     "output_type": "execute_result"
    }
   ],
   "source": [
    "X_pad = pad_sequences([seq_sentence], maxlen=maxlen)\n",
    "X_pad"
   ]
  },
  {
   "cell_type": "code",
   "execution_count": 67,
   "metadata": {},
   "outputs": [
    {
     "data": {
      "text/plain": [
       "array([     0,      0,      0,      0,      0,      0,      0,      0,\n",
       "            0,      0,      0,      0,  25546,  11085,    856,  13352,\n",
       "         1025,  35641,  30233,  40467,   1025,  35641,  13002,  82782,\n",
       "        61411,  18540,  82332,  27789,  44110, 114298, 117578,  46624,\n",
       "        89132,   4445,  87509,  12335,  35531,  37032, 117079,  35531,\n",
       "         4191,   1020,  13352,   4191,  63626,  85111,  40740,  63979,\n",
       "       103135,  34993,  59819,   7407, 110994,  59217,  46780,  25546,\n",
       "        11085,    856,  57827,  82654,  86450,   1025,  35641, 115832,\n",
       "        12422,   3050,   7342,  89046,  80288,  69332,  12500,  94721,\n",
       "        65901, 107423,  40467,  13352, 120459,  54026,  55652, 112816,\n",
       "       106624,  85634,  13352,  44862,  81681, 116944,   3938,  95555,\n",
       "        51914,   5313, 116505, 102832, 101729,  39800,  13352, 117955,\n",
       "        36687,  99253,  69485,  69485], dtype=int32)"
      ]
     },
     "execution_count": 67,
     "metadata": {},
     "output_type": "execute_result"
    }
   ],
   "source": [
    "X_test[0]"
   ]
  },
  {
   "cell_type": "code",
   "execution_count": 68,
   "metadata": {},
   "outputs": [
    {
     "data": {
      "text/plain": [
       "array([ 85404,  32125,  80633,  80857,  67119,  59045,  13352,   8705,\n",
       "        76687,  16311,  43355,  81134, 101767,  72849,     19,  63625,\n",
       "        76890,  79320,  54644,  13352,  64818,  54441,  82665,  76890,\n",
       "        55652,  48999,  11943, 106011,  90473,  82242, 117923,  84733,\n",
       "        89113, 115191,  95555,  68979,  95555, 100938,  14679,  38080,\n",
       "       108476,   2132, 112291,  23656,  39767,  95827,  88894,  18683,\n",
       "        38644,   7700,  55875,  57334,  28543,  41577,  45799, 105850,\n",
       "        66357,  55774, 115887, 105238,   7623,  52175,  81011,  23656,\n",
       "        86751,  55774,  71671,   3539,  32350,  70511, 103392, 117002,\n",
       "        72274,  47784,  94684,  82850,  66796,  12422,  92882,   3594,\n",
       "       116502,  34218, 109537,  86699,  20905,   8705,  73808,  29541,\n",
       "        46290, 112291,  23656,  38871,   5031,   2635,  21930,  16888,\n",
       "        51294,  40985, 112698,  53474], dtype=int32)"
      ]
     },
     "execution_count": 68,
     "metadata": {},
     "output_type": "execute_result"
    }
   ],
   "source": [
    "X_pad[0]"
   ]
  },
  {
   "cell_type": "code",
   "execution_count": 69,
   "metadata": {},
   "outputs": [
    {
     "name": "stdout",
     "output_type": "stream",
     "text": [
      "[[1]] [[0.9754706]]\n"
     ]
    }
   ],
   "source": [
    "from keras.models import load_model\n",
    "model = load_model(model_path)\n",
    "y_pred = model.predict_classes(X_pad)\n",
    "t_prob = model.predict_proba(X_pad)\n",
    "print(y_pred,t_prob)"
   ]
  },
  {
   "cell_type": "code",
   "execution_count": null,
   "metadata": {},
   "outputs": [],
   "source": []
  }
 ],
 "metadata": {
  "kernelspec": {
   "display_name": "Python 3",
   "language": "python",
   "name": "python3"
  },
  "language_info": {
   "codemirror_mode": {
    "name": "ipython",
    "version": 3
   },
   "file_extension": ".py",
   "mimetype": "text/x-python",
   "name": "python",
   "nbconvert_exporter": "python",
   "pygments_lexer": "ipython3",
   "version": "3.7.2"
  }
 },
 "nbformat": 4,
 "nbformat_minor": 4
}
